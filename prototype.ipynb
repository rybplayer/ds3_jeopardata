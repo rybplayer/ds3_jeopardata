{
 "cells": [
  {
   "cell_type": "markdown",
   "metadata": {},
   "source": [
    "# MVP For Medical Loop"
   ]
  },
  {
   "cell_type": "code",
   "execution_count": 55,
   "metadata": {},
   "outputs": [],
   "source": [
    "# Please use numpy v2.\n",
    "import pandas as pd\n",
    "import numpy as np\n",
    "import plotly.express as px\n",
    "import matplotlib.pyplot as plt\n",
    "import seaborn as sns\n",
    "from collections import Counter\n",
    "import pygame\n",
    "import sys"
   ]
  },
  {
   "cell_type": "markdown",
   "metadata": {},
   "source": [
    "# Dataframe Specifications"
   ]
  },
  {
   "cell_type": "code",
   "execution_count": 27,
   "metadata": {},
   "outputs": [
    {
     "data": {
      "text/html": [
       "<div>\n",
       "<style scoped>\n",
       "    .dataframe tbody tr th:only-of-type {\n",
       "        vertical-align: middle;\n",
       "    }\n",
       "\n",
       "    .dataframe tbody tr th {\n",
       "        vertical-align: top;\n",
       "    }\n",
       "\n",
       "    .dataframe thead th {\n",
       "        text-align: right;\n",
       "    }\n",
       "</style>\n",
       "<table border=\"1\" class=\"dataframe\">\n",
       "  <thead>\n",
       "    <tr style=\"text-align: right;\">\n",
       "      <th></th>\n",
       "      <th>Lat</th>\n",
       "      <th>Long</th>\n",
       "    </tr>\n",
       "    <tr>\n",
       "      <th>Customer</th>\n",
       "      <th></th>\n",
       "      <th></th>\n",
       "    </tr>\n",
       "  </thead>\n",
       "  <tbody>\n",
       "    <tr>\n",
       "      <th>A</th>\n",
       "      <td>1</td>\n",
       "      <td>1</td>\n",
       "    </tr>\n",
       "    <tr>\n",
       "      <th>B</th>\n",
       "      <td>2</td>\n",
       "      <td>2</td>\n",
       "    </tr>\n",
       "    <tr>\n",
       "      <th>C</th>\n",
       "      <td>3</td>\n",
       "      <td>3</td>\n",
       "    </tr>\n",
       "  </tbody>\n",
       "</table>\n",
       "</div>"
      ],
      "text/plain": [
       "          Lat  Long\n",
       "Customer           \n",
       "A           1     1\n",
       "B           2     2\n",
       "C           3     3"
      ]
     },
     "execution_count": 27,
     "metadata": {},
     "output_type": "execute_result"
    }
   ],
   "source": [
    "# Stores all customers\n",
    "cs_df = pd.DataFrame({\n",
    "    'Customer': ['A', 'B', 'C'],\n",
    "    'Lat': [1,2,3],\n",
    "    'Long': [1,2,3]\n",
    "})\n",
    "cs_df = cs_df.set_index('Customer')\n",
    "cs_df"
   ]
  },
  {
   "cell_type": "code",
   "execution_count": 4,
   "metadata": {},
   "outputs": [],
   "source": [
    "meds_df = pd.DataFrame({\n",
    "    'Medicine': ['A', 'B'],\n",
    "    'Lifespan': [10, 20]\n",
    "})"
   ]
  },
  {
   "cell_type": "markdown",
   "metadata": {},
   "source": [
    "# Main Game Loop"
   ]
  },
  {
   "cell_type": "code",
   "execution_count": 63,
   "metadata": {},
   "outputs": [
    {
     "data": {
      "text/html": [
       "<div>\n",
       "<style scoped>\n",
       "    .dataframe tbody tr th:only-of-type {\n",
       "        vertical-align: middle;\n",
       "    }\n",
       "\n",
       "    .dataframe tbody tr th {\n",
       "        vertical-align: top;\n",
       "    }\n",
       "\n",
       "    .dataframe thead th {\n",
       "        text-align: right;\n",
       "    }\n",
       "</style>\n",
       "<table border=\"1\" class=\"dataframe\">\n",
       "  <thead>\n",
       "    <tr style=\"text-align: right;\">\n",
       "      <th></th>\n",
       "      <th>Stock</th>\n",
       "      <th>Demand</th>\n",
       "      <th>Time</th>\n",
       "      <th>Lat</th>\n",
       "      <th>Long</th>\n",
       "    </tr>\n",
       "    <tr>\n",
       "      <th>Pharmacy</th>\n",
       "      <th></th>\n",
       "      <th></th>\n",
       "      <th></th>\n",
       "      <th></th>\n",
       "      <th></th>\n",
       "    </tr>\n",
       "  </thead>\n",
       "  <tbody>\n",
       "    <tr>\n",
       "      <th>pharm1</th>\n",
       "      <td>{'A': 10}</td>\n",
       "      <td>{'A': 1}</td>\n",
       "      <td>1.0</td>\n",
       "      <td>1.0</td>\n",
       "      <td>1.0</td>\n",
       "    </tr>\n",
       "    <tr>\n",
       "      <th>pharm1</th>\n",
       "      <td>{'A': 9}</td>\n",
       "      <td>{'A': 1}</td>\n",
       "      <td>2.0</td>\n",
       "      <td>1.0</td>\n",
       "      <td>1.0</td>\n",
       "    </tr>\n",
       "    <tr>\n",
       "      <th>pharm1</th>\n",
       "      <td>{'A': 8}</td>\n",
       "      <td>{'A': 1}</td>\n",
       "      <td>3.0</td>\n",
       "      <td>1.0</td>\n",
       "      <td>1.0</td>\n",
       "    </tr>\n",
       "  </tbody>\n",
       "</table>\n",
       "</div>"
      ],
      "text/plain": [
       "              Stock    Demand  Time  Lat  Long\n",
       "Pharmacy                                      \n",
       "pharm1    {'A': 10}  {'A': 1}   1.0  1.0   1.0\n",
       "pharm1     {'A': 9}  {'A': 1}   2.0  1.0   1.0\n",
       "pharm1     {'A': 8}  {'A': 1}   3.0  1.0   1.0"
      ]
     },
     "execution_count": 63,
     "metadata": {},
     "output_type": "execute_result"
    }
   ],
   "source": [
    "# Stores all pharmacies\n",
    "rx_df = pd.DataFrame({\n",
    "    'Pharmacy': ['pharm1'],\n",
    "    'Lat': [1],\n",
    "    'Long': [1],\n",
    "    'Stock': [Counter({\"A\":10})],\n",
    "    'Demand': [Counter({\"A\":1})]\n",
    "})\n",
    "rx_df = rx_df.set_index('Pharmacy')\n",
    "\n",
    "rec_df = pd.DataFrame({\n",
    "    'Pharmacy': [],\n",
    "    'Stock': [],\n",
    "    'Demand': [],\n",
    "    'Time': []\n",
    "})\n",
    "rec_df = rec_df.set_index('Pharmacy')\n",
    "\n",
    "pygame.init()\n",
    "screen = pygame.display.set_mode((500,500))\n",
    "background_color = (255, 255, 255)\n",
    "point_color = (0, 0, 0)\n",
    "pharm_color = (100, 100, 100)\n",
    "\n",
    "clock = pygame.time.Clock()\n",
    "running = True\n",
    "\n",
    "frame = 1\n",
    "while running:\n",
    "    # White background\n",
    "    screen.fill(background_color)\n",
    "\n",
    "    # Print every resident\n",
    "    for cs in cs_df.index:\n",
    "        pygame.draw.circle(\n",
    "            screen, point_color, \n",
    "            (cs_df.loc[cs].Lat*100, cs_df.loc[cs].Long*100), 10\n",
    "        )\n",
    "    \n",
    "    # Print the pharmacies\n",
    "    for rx in rx_df.index:\n",
    "        pygame.draw.circle(\n",
    "            screen, pharm_color,\n",
    "            (rx_df.loc[rx].Lat*100, rx_df.loc[rx].Long*100), 15\n",
    "        )\n",
    "\n",
    "    # Update records\n",
    "    rx_df['Time'] = frame\n",
    "    rec_df = pd.concat([rec_df,rx_df])\n",
    "    rx_df.Stock = rx_df.Stock - rx_df.Demand\n",
    "\n",
    "    # Update to next frame (1 fps)\n",
    "    pygame.display.flip()\n",
    "    clock.tick(1)\n",
    "    frame += 1\n",
    "\n",
    "    # Handle quitting TODO BROKEN\n",
    "    for event in pygame.event.get():\n",
    "        if event.type == pygame.QUIT:\n",
    "            running = False\n",
    "\n",
    "pygame.quit()\n",
    "rec_df"
   ]
  },
  {
   "cell_type": "markdown",
   "metadata": {},
   "source": [
    "# Plotting of Data"
   ]
  },
  {
   "cell_type": "code",
   "execution_count": 65,
   "metadata": {},
   "outputs": [
    {
     "data": {
      "image/png": "[encoded data removed]",
      "text/plain": [
       "<Figure size 640x480 with 1 Axes>"
      ]
     },
     "metadata": {},
     "output_type": "display_data"
    }
   ],
   "source": [
    "def plot_recs(pharm, med):\n",
    "    x = rec_df.loc[pharm].Time\n",
    "    y = rec_df.loc[pharm].Stock.apply(lambda x: x[med]).values\n",
    "    plt.plot(x,y)\n",
    "\n",
    "plot_recs('pharm1','A')"
   ]
  },
  {
   "cell_type": "code",
   "execution_count": null,
   "metadata": {},
   "outputs": [],
   "source": []
  }
 ],
 "metadata": {
  "kernelspec": {
   "display_name": "dsc80",
   "language": "python",
   "name": "python3"
  },
  "language_info": {
   "codemirror_mode": {
    "name": "ipython",
    "version": 3
   },
   "file_extension": ".py",
   "mimetype": "text/x-python",
   "name": "python",
   "nbconvert_exporter": "python",
   "pygments_lexer": "ipython3",
   "version": "3.8.19"
  }
 },
 "nbformat": 4,
 "nbformat_minor": 2
}
